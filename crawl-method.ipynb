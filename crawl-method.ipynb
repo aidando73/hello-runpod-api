{
 "cells": [
  {
   "cell_type": "code",
   "execution_count": 9,
   "metadata": {},
   "outputs": [
    {
     "ename": "TimeoutError",
     "evalue": "Page.wait_for_selector: Timeout 30000ms exceeded.\nCall log:\n  - waiting for locator(\".some-element-class\") to be visible\n",
     "output_type": "error",
     "traceback": [
      "\u001b[0;31m---------------------------------------------------------------------------\u001b[0m",
      "\u001b[0;31mTimeoutError\u001b[0m                              Traceback (most recent call last)",
      "Cell \u001b[0;32mIn[9], line 26\u001b[0m\n\u001b[1;32m     22\u001b[0m \u001b[38;5;28;01mawait\u001b[39;00m page\u001b[38;5;241m.\u001b[39mgoto(deploy_url)\n\u001b[1;32m     24\u001b[0m \u001b[38;5;66;03m# Now you can interact with the page\u001b[39;00m\n\u001b[1;32m     25\u001b[0m \u001b[38;5;66;03m# Example: Wait for some element to load (that might be loaded via AJAX)\u001b[39;00m\n\u001b[0;32m---> 26\u001b[0m \u001b[38;5;28;01mawait\u001b[39;00m page\u001b[38;5;241m.\u001b[39mwait_for_selector(\u001b[38;5;124m'\u001b[39m\u001b[38;5;124m.some-element-class\u001b[39m\u001b[38;5;124m'\u001b[39m)\n\u001b[1;32m     28\u001b[0m \u001b[38;5;66;03m# Perform actions like clicking buttons\u001b[39;00m\n\u001b[1;32m     29\u001b[0m \u001b[38;5;66;03m# page.click('#some-button-id')\u001b[39;00m\n\u001b[1;32m     30\u001b[0m \n\u001b[0;32m   (...)\u001b[0m\n\u001b[1;32m     33\u001b[0m \n\u001b[1;32m     34\u001b[0m \u001b[38;5;66;03m# Take a screenshot for debugging\u001b[39;00m\n\u001b[1;32m     35\u001b[0m \u001b[38;5;28;01mawait\u001b[39;00m page\u001b[38;5;241m.\u001b[39mscreenshot(path\u001b[38;5;241m=\u001b[39m\u001b[38;5;124m\"\u001b[39m\u001b[38;5;124mrunpod_page.png\u001b[39m\u001b[38;5;124m\"\u001b[39m)\n",
      "File \u001b[0;32m~/dev/hello-runpod-api/env/lib/python3.10/site-packages/playwright/async_api/_generated.py:8176\u001b[0m, in \u001b[0;36mPage.wait_for_selector\u001b[0;34m(self, selector, timeout, state, strict)\u001b[0m\n\u001b[1;32m   8105\u001b[0m \u001b[38;5;28;01masync\u001b[39;00m \u001b[38;5;28;01mdef\u001b[39;00m\u001b[38;5;250m \u001b[39m\u001b[38;5;21mwait_for_selector\u001b[39m(\n\u001b[1;32m   8106\u001b[0m     \u001b[38;5;28mself\u001b[39m,\n\u001b[1;32m   8107\u001b[0m     selector: \u001b[38;5;28mstr\u001b[39m,\n\u001b[0;32m   (...)\u001b[0m\n\u001b[1;32m   8113\u001b[0m     strict: typing\u001b[38;5;241m.\u001b[39mOptional[\u001b[38;5;28mbool\u001b[39m] \u001b[38;5;241m=\u001b[39m \u001b[38;5;28;01mNone\u001b[39;00m,\n\u001b[1;32m   8114\u001b[0m ) \u001b[38;5;241m-\u001b[39m\u001b[38;5;241m>\u001b[39m typing\u001b[38;5;241m.\u001b[39mOptional[\u001b[38;5;124m\"\u001b[39m\u001b[38;5;124mElementHandle\u001b[39m\u001b[38;5;124m\"\u001b[39m]:\n\u001b[1;32m   8115\u001b[0m \u001b[38;5;250m    \u001b[39m\u001b[38;5;124;03m\"\"\"Page.wait_for_selector\u001b[39;00m\n\u001b[1;32m   8116\u001b[0m \n\u001b[1;32m   8117\u001b[0m \u001b[38;5;124;03m    Returns when element specified by selector satisfies `state` option. Returns `null` if waiting for `hidden` or\u001b[39;00m\n\u001b[0;32m   (...)\u001b[0m\n\u001b[1;32m   8172\u001b[0m \u001b[38;5;124;03m    Union[ElementHandle, None]\u001b[39;00m\n\u001b[1;32m   8173\u001b[0m \u001b[38;5;124;03m    \"\"\"\u001b[39;00m\n\u001b[1;32m   8175\u001b[0m     \u001b[38;5;28;01mreturn\u001b[39;00m mapping\u001b[38;5;241m.\u001b[39mfrom_impl_nullable(\n\u001b[0;32m-> 8176\u001b[0m         \u001b[38;5;28;01mawait\u001b[39;00m \u001b[38;5;28mself\u001b[39m\u001b[38;5;241m.\u001b[39m_impl_obj\u001b[38;5;241m.\u001b[39mwait_for_selector(\n\u001b[1;32m   8177\u001b[0m             selector\u001b[38;5;241m=\u001b[39mselector, timeout\u001b[38;5;241m=\u001b[39mtimeout, state\u001b[38;5;241m=\u001b[39mstate, strict\u001b[38;5;241m=\u001b[39mstrict\n\u001b[1;32m   8178\u001b[0m         )\n\u001b[1;32m   8179\u001b[0m     )\n",
      "File \u001b[0;32m~/dev/hello-runpod-api/env/lib/python3.10/site-packages/playwright/_impl/_page.py:425\u001b[0m, in \u001b[0;36mPage.wait_for_selector\u001b[0;34m(self, selector, timeout, state, strict)\u001b[0m\n\u001b[1;32m    418\u001b[0m \u001b[38;5;28;01masync\u001b[39;00m \u001b[38;5;28;01mdef\u001b[39;00m\u001b[38;5;250m \u001b[39m\u001b[38;5;21mwait_for_selector\u001b[39m(\n\u001b[1;32m    419\u001b[0m     \u001b[38;5;28mself\u001b[39m,\n\u001b[1;32m    420\u001b[0m     selector: \u001b[38;5;28mstr\u001b[39m,\n\u001b[0;32m   (...)\u001b[0m\n\u001b[1;32m    423\u001b[0m     strict: \u001b[38;5;28mbool\u001b[39m \u001b[38;5;241m=\u001b[39m \u001b[38;5;28;01mNone\u001b[39;00m,\n\u001b[1;32m    424\u001b[0m ) \u001b[38;5;241m-\u001b[39m\u001b[38;5;241m>\u001b[39m Optional[ElementHandle]:\n\u001b[0;32m--> 425\u001b[0m     \u001b[38;5;28;01mreturn\u001b[39;00m \u001b[38;5;28;01mawait\u001b[39;00m \u001b[38;5;28mself\u001b[39m\u001b[38;5;241m.\u001b[39m_main_frame\u001b[38;5;241m.\u001b[39mwait_for_selector(\u001b[38;5;241m*\u001b[39m\u001b[38;5;241m*\u001b[39mlocals_to_params(\u001b[38;5;28mlocals\u001b[39m()))\n",
      "File \u001b[0;32m~/dev/hello-runpod-api/env/lib/python3.10/site-packages/playwright/_impl/_frame.py:323\u001b[0m, in \u001b[0;36mFrame.wait_for_selector\u001b[0;34m(self, selector, strict, timeout, state)\u001b[0m\n\u001b[1;32m    315\u001b[0m \u001b[38;5;28;01masync\u001b[39;00m \u001b[38;5;28;01mdef\u001b[39;00m\u001b[38;5;250m \u001b[39m\u001b[38;5;21mwait_for_selector\u001b[39m(\n\u001b[1;32m    316\u001b[0m     \u001b[38;5;28mself\u001b[39m,\n\u001b[1;32m    317\u001b[0m     selector: \u001b[38;5;28mstr\u001b[39m,\n\u001b[0;32m   (...)\u001b[0m\n\u001b[1;32m    320\u001b[0m     state: Literal[\u001b[38;5;124m\"\u001b[39m\u001b[38;5;124mattached\u001b[39m\u001b[38;5;124m\"\u001b[39m, \u001b[38;5;124m\"\u001b[39m\u001b[38;5;124mdetached\u001b[39m\u001b[38;5;124m\"\u001b[39m, \u001b[38;5;124m\"\u001b[39m\u001b[38;5;124mhidden\u001b[39m\u001b[38;5;124m\"\u001b[39m, \u001b[38;5;124m\"\u001b[39m\u001b[38;5;124mvisible\u001b[39m\u001b[38;5;124m\"\u001b[39m] \u001b[38;5;241m=\u001b[39m \u001b[38;5;28;01mNone\u001b[39;00m,\n\u001b[1;32m    321\u001b[0m ) \u001b[38;5;241m-\u001b[39m\u001b[38;5;241m>\u001b[39m Optional[ElementHandle]:\n\u001b[1;32m    322\u001b[0m     \u001b[38;5;28;01mreturn\u001b[39;00m from_nullable_channel(\n\u001b[0;32m--> 323\u001b[0m         \u001b[38;5;28;01mawait\u001b[39;00m \u001b[38;5;28mself\u001b[39m\u001b[38;5;241m.\u001b[39m_channel\u001b[38;5;241m.\u001b[39msend(\u001b[38;5;124m\"\u001b[39m\u001b[38;5;124mwaitForSelector\u001b[39m\u001b[38;5;124m\"\u001b[39m, locals_to_params(\u001b[38;5;28mlocals\u001b[39m()))\n\u001b[1;32m    324\u001b[0m     )\n",
      "File \u001b[0;32m~/dev/hello-runpod-api/env/lib/python3.10/site-packages/playwright/_impl/_connection.py:61\u001b[0m, in \u001b[0;36mChannel.send\u001b[0;34m(self, method, params)\u001b[0m\n\u001b[1;32m     60\u001b[0m \u001b[38;5;28;01masync\u001b[39;00m \u001b[38;5;28;01mdef\u001b[39;00m\u001b[38;5;250m \u001b[39m\u001b[38;5;21msend\u001b[39m(\u001b[38;5;28mself\u001b[39m, method: \u001b[38;5;28mstr\u001b[39m, params: Dict \u001b[38;5;241m=\u001b[39m \u001b[38;5;28;01mNone\u001b[39;00m) \u001b[38;5;241m-\u001b[39m\u001b[38;5;241m>\u001b[39m Any:\n\u001b[0;32m---> 61\u001b[0m     \u001b[38;5;28;01mreturn\u001b[39;00m \u001b[38;5;28;01mawait\u001b[39;00m \u001b[38;5;28mself\u001b[39m\u001b[38;5;241m.\u001b[39m_connection\u001b[38;5;241m.\u001b[39mwrap_api_call(\n\u001b[1;32m     62\u001b[0m         \u001b[38;5;28;01mlambda\u001b[39;00m: \u001b[38;5;28mself\u001b[39m\u001b[38;5;241m.\u001b[39m_inner_send(method, params, \u001b[38;5;28;01mFalse\u001b[39;00m),\n\u001b[1;32m     63\u001b[0m         \u001b[38;5;28mself\u001b[39m\u001b[38;5;241m.\u001b[39m_is_internal_type,\n\u001b[1;32m     64\u001b[0m     )\n",
      "File \u001b[0;32m~/dev/hello-runpod-api/env/lib/python3.10/site-packages/playwright/_impl/_connection.py:528\u001b[0m, in \u001b[0;36mConnection.wrap_api_call\u001b[0;34m(self, cb, is_internal)\u001b[0m\n\u001b[1;32m    526\u001b[0m     \u001b[38;5;28;01mreturn\u001b[39;00m \u001b[38;5;28;01mawait\u001b[39;00m cb()\n\u001b[1;32m    527\u001b[0m \u001b[38;5;28;01mexcept\u001b[39;00m \u001b[38;5;167;01mException\u001b[39;00m \u001b[38;5;28;01mas\u001b[39;00m error:\n\u001b[0;32m--> 528\u001b[0m     \u001b[38;5;28;01mraise\u001b[39;00m rewrite_error(error, \u001b[38;5;124mf\u001b[39m\u001b[38;5;124m\"\u001b[39m\u001b[38;5;132;01m{\u001b[39;00mparsed_st[\u001b[38;5;124m'\u001b[39m\u001b[38;5;124mapiName\u001b[39m\u001b[38;5;124m'\u001b[39m]\u001b[38;5;132;01m}\u001b[39;00m\u001b[38;5;124m: \u001b[39m\u001b[38;5;132;01m{\u001b[39;00merror\u001b[38;5;132;01m}\u001b[39;00m\u001b[38;5;124m\"\u001b[39m) \u001b[38;5;28;01mfrom\u001b[39;00m\u001b[38;5;250m \u001b[39m\u001b[38;5;28;01mNone\u001b[39;00m\n\u001b[1;32m    529\u001b[0m \u001b[38;5;28;01mfinally\u001b[39;00m:\n\u001b[1;32m    530\u001b[0m     \u001b[38;5;28mself\u001b[39m\u001b[38;5;241m.\u001b[39m_api_zone\u001b[38;5;241m.\u001b[39mset(\u001b[38;5;28;01mNone\u001b[39;00m)\n",
      "\u001b[0;31mTimeoutError\u001b[0m: Page.wait_for_selector: Timeout 30000ms exceeded.\nCall log:\n  - waiting for locator(\".some-element-class\") to be visible\n"
     ]
    }
   ],
   "source": [
    "# Install with: pip install playwright\n",
    "# Then run: python -m playwright install\n",
    "\n",
    "from playwright.async_api import async_playwright\n",
    "from dotenv import load_dotenv\n",
    "import os\n",
    "\n",
    "load_dotenv()\n",
    "\n",
    "deploy_url = \"https://www.runpod.io/console/deploy\"\n",
    "\n",
    "aidan_runpod_password = os.getenv(\"AIDAN_RUNPOD_PASSWORD\")\n",
    "\n",
    "HEADLESS = False\n",
    "\n",
    "async with async_playwright() as p:\n",
    "    # Launch a headless browser\n",
    "    browser = await p.chromium.launch(headless=HEADLESS)\n",
    "    page = await browser.new_page()\n",
    "    \n",
    "    # Navigate to RunPod\n",
    "    await page.goto(deploy_url)\n",
    "    \n",
    "    # Now you can interact with the page\n",
    "    # Example: Wait for some element to load (that might be loaded via AJAX)\n",
    "    await page.wait_for_selector('.some-element-class')\n",
    "    \n",
    "    # Perform actions like clicking buttons\n",
    "    # page.click('#some-button-id')\n",
    "    \n",
    "    # Extract data if needed\n",
    "    # data = page.inner_text('#some-data-container')\n",
    "    \n",
    "    # Take a screenshot for debugging\n",
    "    await page.screenshot(path=\"runpod_page.png\")\n",
    "    \n",
    "    browser.close()\n"
   ]
  }
 ],
 "metadata": {
  "kernelspec": {
   "display_name": "Python 3",
   "language": "python",
   "name": "python3"
  },
  "language_info": {
   "codemirror_mode": {
    "name": "ipython",
    "version": 3
   },
   "file_extension": ".py",
   "mimetype": "text/x-python",
   "name": "python",
   "nbconvert_exporter": "python",
   "pygments_lexer": "ipython3",
   "version": "3.10.16"
  }
 },
 "nbformat": 4,
 "nbformat_minor": 2
}
