{
 "cells": [
  {
   "cell_type": "code",
   "execution_count": null,
   "metadata": {},
   "outputs": [],
   "source": [
    "# Install with: pip install playwright\n",
    "# Then run: python -m playwright install\n",
    "\n",
    "from playwright.sync_api import sync_playwright\n",
    "\n",
    "deploy_url = \"https://www.runpod.io/console/deploy\"\n",
    "\n",
    "def interact_with_runpod():\n",
    "    with sync_playwright() as p:\n",
    "        # Launch a headless browser\n",
    "        browser = p.chromium.launch(headless=True)\n",
    "        page = browser.new_page()\n",
    "        \n",
    "        # Navigate to RunPod\n",
    "        page.goto(deploy_url)\n",
    "        \n",
    "        # Now you can interact with the page\n",
    "        # Example: Wait for some element to load (that might be loaded via AJAX)\n",
    "        page.wait_for_selector('.some-element-class')\n",
    "        \n",
    "        # Perform actions like clicking buttons\n",
    "        # page.click('#some-button-id')\n",
    "        \n",
    "        # Extract data if needed\n",
    "        # data = page.inner_text('#some-data-container')\n",
    "        \n",
    "        # Take a screenshot for debugging\n",
    "        page.screenshot(path=\"runpod_page.png\")\n",
    "        \n",
    "        browser.close()\n",
    "\n",
    "interact_with_runpod()"
   ]
  }
 ],
 "metadata": {
  "kernelspec": {
   "display_name": "Python 3",
   "language": "python",
   "name": "python3"
  },
  "language_info": {
   "name": "python",
   "version": "3.10.16"
  }
 },
 "nbformat": 4,
 "nbformat_minor": 2
}
