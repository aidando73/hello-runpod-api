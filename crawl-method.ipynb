{
 "cells": [
  {
   "cell_type": "code",
   "execution_count": null,
   "metadata": {},
   "outputs": [
    {
     "name": "stderr",
     "output_type": "stream",
     "text": [
      "/Users/aidand/dev/hello-runpod-api/env/lib/python3.10/site-packages/pyee/base.py:185: RuntimeWarning: coroutine 'Browser.new_page' was never awaited\n",
      "  with self._lock:\n",
      "RuntimeWarning: Enable tracemalloc to get the object allocation traceback\n"
     ]
    }
   ],
   "source": [
    "# Install with: pip install playwright\n",
    "# Then run: python -m playwright install\n",
    "\n",
    "from playwright.async_api import async_playwright\n",
    "from dotenv import load_dotenv\n",
    "import os\n",
    "\n",
    "load_dotenv()\n",
    "\n",
    "deploy_url = \"https://www.runpod.io/console/deploy\"\n",
    "\n",
    "aidan_runpod_password = os.getenv(\"AIDAN_RUNPOD_PASSWORD\")\n",
    "\n",
    "HEADLESS = False\n",
    "\n",
    "async with async_playwright() as p:\n",
    "    # Launch a headless browser\n",
    "    browser = await p.chromium.launch(headless=HEADLESS)\n",
    "    page = await browser.new_page()\n",
    "    \n",
    "    # Navigate to RunPod\n",
    "    await page.goto(deploy_url)\n",
    "    \n",
    "    # Now you can interact with the page\n",
    "    # Example: Wait for some element to load (that might be loaded via AJAX)\n",
    "    await page.wait_for_selector('.some-element-class')\n",
    "    \n",
    "    # Perform actions like clicking buttons\n",
    "    # page.click('#some-button-id')\n",
    "    \n",
    "    # Extract data if needed\n",
    "    # data = page.inner_text('#some-data-container')\n",
    "    \n",
    "    # Take a screenshot for debugging\n",
    "    await page.screenshot(path=\"runpod_page.png\")\n",
    "    \n",
    "    browser.close()\n"
   ]
  }
 ],
 "metadata": {
  "kernelspec": {
   "display_name": "Python 3",
   "language": "python",
   "name": "python3"
  },
  "language_info": {
   "codemirror_mode": {
    "name": "ipython",
    "version": 3
   },
   "file_extension": ".py",
   "mimetype": "text/x-python",
   "name": "python",
   "nbconvert_exporter": "python",
   "pygments_lexer": "ipython3",
   "version": "3.10.16"
  }
 },
 "nbformat": 4,
 "nbformat_minor": 2
}
