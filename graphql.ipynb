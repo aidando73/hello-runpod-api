{
 "cells": [
  {
   "cell_type": "code",
   "execution_count": null,
   "metadata": {},
   "outputs": [
    {
     "name": "stdout",
     "output_type": "stream",
     "text": [
      "Status Code: 200\n",
      "Response JSON:\n",
      "{\n",
      "  \"data\": {\n",
      "    \"gpuTypes\": [\n",
      "      {\n",
      "        \"lowestPrice\": {\n",
      "          \"minimumBidPrice\": 1.75,\n",
      "          \"uninterruptablePrice\": 2.99,\n",
      "          \"minVcpu\": 16,\n",
      "          \"minMemory\": 251,\n",
      "          \"stockStatus\": \"Low\",\n",
      "          \"compliance\": null,\n",
      "          \"maxUnreservedGpuCount\": 1,\n",
      "          \"__typename\": \"LowestPrice\"\n",
      "        },\n",
      "        \"id\": \"NVIDIA H100 80GB HBM3\",\n",
      "        \"displayName\": \"H100 SXM\",\n",
      "        \"memoryInGb\": 80,\n",
      "        \"securePrice\": 2.99,\n",
      "        \"communityPrice\": 2.69,\n",
      "        \"oneMonthPrice\": 2.85,\n",
      "        \"oneWeekPrice\": 2.89,\n",
      "        \"threeMonthPrice\": 2.79,\n",
      "        \"sixMonthPrice\": 2.49,\n",
      "        \"secureSpotPrice\": 1.75,\n",
      "        \"__typename\": \"GpuType\"\n",
      "      }\n",
      "    ]\n",
      "  }\n",
      "}\n"
     ]
    }
   ],
   "source": [
    "url = \"https://api.runpod.io/graphql\"\n",
    "\n",
    "import requests\n",
    "import os\n",
    "import json\n",
    "\n",
    "query = \"\"\"\n",
    "query SecureGpuTypes($lowestPriceInput: GpuLowestPriceInput, $gpuTypesInput: GpuTypeFilter) {\n",
    "  gpuTypes(input: $gpuTypesInput) {\n",
    "    lowestPrice(input: $lowestPriceInput) {\n",
    "      minimumBidPrice\n",
    "      uninterruptablePrice\n",
    "      minVcpu\n",
    "      minMemory\n",
    "      stockStatus\n",
    "      compliance\n",
    "      maxUnreservedGpuCount\n",
    "      __typename\n",
    "    }\n",
    "    id\n",
    "    displayName\n",
    "    memoryInGb\n",
    "    securePrice\n",
    "    communityPrice\n",
    "    oneMonthPrice\n",
    "    oneWeekPrice\n",
    "    threeMonthPrice\n",
    "    sixMonthPrice\n",
    "    secureSpotPrice\n",
    "    __typename\n",
    "  }\n",
    "}\n",
    "\"\"\"\n",
    "\n",
    "payload = {\n",
    "    \"operationName\": \"SecureGpuTypes\",\n",
    "    \"query\": query,\n",
    "    \"variables\": {\n",
    "        \"gpuTypesInput\": {\n",
    "            \"id\": \"NVIDIA H100 80GB HBM3\"\n",
    "        },\n",
    "        \"lowestPriceInput\": {\n",
    "            \"gpuCount\": 1,\n",
    "            \"minDisk\": 0,\n",
    "            \"minMemoryInGb\": 8,\n",
    "            \"minVcpuCount\": 2,\n",
    "            \"secureCloud\": True,\n",
    "            \"compliance\": None,\n",
    "            \"dataCenterId\": \"US-KS-2\",\n",
    "            \"globalNetwork\": True\n",
    "        }\n",
    "    }\n",
    "}\n",
    "# Make the GraphQL request\n",
    "response = requests.post(url, json=payload)\n",
    "\n",
    "# Print the response\n",
    "print(\"Status Code:\", response.status_code)\n",
    "print(\"Response JSON:\")\n",
    "print(json.dumps(response.json(), indent=2))\n",
    "\n"
   ]
  },
  {
   "cell_type": "code",
   "execution_count": 7,
   "metadata": {},
   "outputs": [
    {
     "data": {
      "text/plain": [
       "1"
      ]
     },
     "execution_count": 7,
     "metadata": {},
     "output_type": "execute_result"
    }
   ],
   "source": [
    "body = response.json()\n",
    "body['data']['gpuTypes'][0]['lowestPrice']['maxUnreservedGpuCount']"
   ]
  }
 ],
 "metadata": {
  "kernelspec": {
   "display_name": "Python 3",
   "language": "python",
   "name": "python3"
  },
  "language_info": {
   "codemirror_mode": {
    "name": "ipython",
    "version": 3
   },
   "file_extension": ".py",
   "mimetype": "text/x-python",
   "name": "python",
   "nbconvert_exporter": "python",
   "pygments_lexer": "ipython3",
   "version": "3.10.16"
  }
 },
 "nbformat": 4,
 "nbformat_minor": 2
}
