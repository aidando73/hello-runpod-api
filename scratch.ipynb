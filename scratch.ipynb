{
 "cells": [
  {
   "cell_type": "code",
   "execution_count": null,
   "metadata": {},
   "outputs": [],
   "source": [
    "import runpod\n",
    "import os\n",
    "\n",
    "runpod.api_key = os.getenv(\"RUNPOD_API_KEY\")\n",
    "\n",
    "# Fetching all available endpoints\n",
    "endpoints = runpod.get_endpoints()\n",
    "\n",
    "# Displaying the list of endpoints\n",
    "print(endpoints)"
   ]
  }
 ],
 "metadata": {
  "kernelspec": {
   "display_name": "Python 3",
   "language": "python",
   "name": "python3"
  },
  "language_info": {
   "name": "python",
   "version": "3.10.16"
  }
 },
 "nbformat": 4,
 "nbformat_minor": 2
}
